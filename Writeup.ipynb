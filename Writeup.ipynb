{
 "cells": [
  {
   "cell_type": "markdown",
   "metadata": {},
   "source": [
    "#**Finding Lane Lines on the Road** \n",
    "\n",
    "##This is the writeup for the first project of the Self Driving Nanodegree Term1 Course: Computer Vision and Deep Learning\n",
    "\n",
    "---\n",
    "\n",
    "**Finding Lane Lines on the Road**\n",
    "\n",
    "The goals / steps of this project are the following:\n",
    "* Make a pipeline that finds lane lines on the road\n",
    "* Reflect on your work in a written report\n",
    "\n",
    "\n",
    "[//]: # (Image References)\n",
    "<img src=\"./test_images/solidWhiteCurve.jpg\" width=\"150\"> | <img src=\"./test_images/solidWhiteCurve.jpg\" width=\"150\">\n",
    "\n",
    "[image1]: ./examples/grayscale.jpg \"Grayscale\"\n",
    "[image2]: ./test_images/solidWhiteCurve.jpg  \"Solid White Curve\"\n",
    "[image3]: ./test_images/solidWhiteRight.jpg \"Solid White Right\"\n",
    "[image4]: ./test_images/solidYellowCurve.jpg \"Solid Yellow Curve\"\n",
    "[image5]: ./test_images/solidYellowCurve2.jpg \"Solid Yellow Curve2\"\n",
    "[image6]: ./test_images/solidYellowLeft.jpg \"solidYellowLeft\"\n",
    "[image7]: ./test_images/whiteCarLaneSwitch.jpg \"whiteCarLaneSwitch\"\n",
    "[image8]: ./test_images/out/solidWhiteCurve.jpg \"Solid White Curve _ Out\"\n",
    "[image9]: ./test_images/out/solidWhiteRight.jpg \"Solid White Right _ Out\"\n",
    "[image10]: ./test_images/out/solidYellowCurve.jpg \"Solid Yellow Curve _ Out\"\n",
    "[image11]: ./test_images/out/solidYellowCurve2.jpg \"Solid Yellow Curve2 _ Out\"\n",
    "[image12]: ./test_images/out/solidYellowLeft.jpg \"solidYellowLeft _ Out\"\n",
    "[image13]: ./test_images/out/whiteCarLaneSwitch.jpg \"whiteCarLaneSwitch _ Out\"\n",
    "---\n",
    "\n",
    "### Reflection\n",
    "\n",
    "###1. Describe your pipeline. As part of the description, explain how you modified the draw_lines() function.\n",
    "\n",
    "My pipeline consists of 7 steps. First I import the image and convert it to grayscale. Then I apply a gaussian smoothing filter. Then detect edges using a canny edge detector. I then create a mask for the area of interest where the highway lines are likely to reside. I perform a hough transform to detect the lines within the masked area and then output (draw) the lines on the original image. \n",
    "\n",
    "The pipeline is tested on the given 6 test images. The test images are shown alongside the images with the lines annotated. \n",
    "\n",
    "| ![alt text][image2] | ![alt text][image8] |\n",
    "\n",
    "My pipeline consisted of 5 steps. First, I converted the images to grayscale, then I .... \n",
    "\n",
    "In order to draw a single line on the left and right lanes, I modified the draw_lines() function by ...\n",
    "\n",
    "If you'd like to include images to show how the pipeline works, here is how to include an image: \n",
    "\n",
    "![alt text][image]\n",
    "\n",
    "\n",
    "###2. Identify potential shortcomings with your current pipeline\n",
    "\n",
    "\n",
    "One potential shortcoming would be what would happen when ... \n",
    "\n",
    "Another shortcoming could be ...\n",
    "\n",
    "\n",
    "###3. Suggest possible improvements to your pipeline\n",
    "\n",
    "A possible improvement would be to ...\n",
    "\n",
    "Another potential improvement could be to ..."
   ]
  },
  {
   "cell_type": "code",
   "execution_count": null,
   "metadata": {
    "collapsed": true
   },
   "outputs": [],
   "source": []
  }
 ],
 "metadata": {
  "kernelspec": {
   "display_name": "Python 3",
   "language": "python",
   "name": "python3"
  },
  "language_info": {
   "codemirror_mode": {
    "name": "ipython",
    "version": 3
   },
   "file_extension": ".py",
   "mimetype": "text/x-python",
   "name": "python",
   "nbconvert_exporter": "python",
   "pygments_lexer": "ipython3",
   "version": "3.5.2"
  },
  "widgets": {
   "state": {},
   "version": "1.1.2"
  }
 },
 "nbformat": 4,
 "nbformat_minor": 2
}
