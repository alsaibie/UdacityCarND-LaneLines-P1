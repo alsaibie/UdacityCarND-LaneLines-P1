{
 "cells": [
  {
   "cell_type": "code",
   "execution_count": 29,
   "metadata": {
    "collapsed": false,
    "deletable": true,
    "editable": true
   },
   "outputs": [
    {
     "name": "stdout",
     "output_type": "stream",
     "text": [
      "-70.48192771084338\n",
      "61.60714285714286\n",
      "-72.38095238095238\n",
      "-75.42372881355932\n",
      "67.70833333333334\n",
      "-71.42857142857143\n",
      "-71.11111111111111\n",
      "65.38461538461539\n",
      "-73.80952380952381\n",
      "62.22222222222222\n",
      "66.66666666666666\n",
      "66.17647058823529\n",
      "-73.68421052631578\n",
      "-71.21212121212122\n",
      "-66.19718309859155\n",
      "-65.93406593406593\n",
      "-76.0\n",
      "64.81481481481481\n",
      "-68.08510638297872\n",
      "-64.28571428571429\n",
      "-72.6530612244898\n"
     ]
    }
   ],
   "source": [
    "import matplotlib.pyplot as plt\n",
    "import matplotlib.image as mpimg\n",
    "import numpy as np\n",
    "import cv2\n",
    "lines = np.array([\n",
    "\n",
    "       [[157, 538, 323, 421]],\n",
    "\n",
    "       [[671, 424, 783, 493]],\n",
    "\n",
    "       [[362, 387, 467, 311]],\n",
    "\n",
    "       [[337, 411, 455, 322]],\n",
    "\n",
    "       [[508, 322, 604, 387]],\n",
    "\n",
    "       [[425, 340, 467, 310]],\n",
    "\n",
    "       [[257, 459, 302, 427]],\n",
    "\n",
    "       [[661, 425, 687, 442]],\n",
    "\n",
    "       [[339, 403, 381, 372]],\n",
    "\n",
    "       [[694, 437, 784, 493]],\n",
    "\n",
    "       [[662, 424, 722, 464]],\n",
    "\n",
    "       [[699, 448, 767, 493]],\n",
    "\n",
    "       [[175, 527, 213, 499]],\n",
    "\n",
    "       [[399, 359, 465, 312]],\n",
    "\n",
    "       [[246, 465, 317, 418]],\n",
    "\n",
    "       [[188, 504, 279, 444]],\n",
    "\n",
    "       [[158, 539, 183, 520]],\n",
    "\n",
    "       [[501, 316, 609, 386]],\n",
    "\n",
    "       [[287, 437, 381, 373]],\n",
    "\n",
    "       [[210, 490, 238, 472]],\n",
    "\n",
    "       [[196, 512, 441, 334]]], dtype=np.int32)\n",
    "empty_arr = np.zeros((len(lines),1,1), dtype=np.int32)\n",
    "lines = np.dstack((empty_arr,lines))\n",
    "for line in lines:\n",
    "    for m100,x1,y1,x2,y2 in line:\n",
    "        #Match Slopes\n",
    "        m100 = 100* float ((y2-y1)/(x2-x1))\n",
    "        print(m100)\n",
    "        line[0,0]=m100\n",
    "    \n",
    "slopes = lines[:,0,0]\n",
    "slopes_sorted = np.sort(slopes)\n",
    "hist, bin_edges = np.histogram(slopes_sorted,bins=np.arange(-100,100,.5))\n",
    "\n",
    "#find where 0 crossing in histogram is\n",
    "indzero = 0;\n",
    "for ind in bin_edges:\n",
    "    if ind > 0:\n",
    "        break\n",
    "    indzero=indzero+1\n",
    "#Get Average Slop of Left Line\n",
    "indmaxleft = np.argmax(hist[0:indzero])\n",
    "slopeleft = bin_edges[indmaxleft]\n",
    "\n",
    "#Get Average Slop of Right Line\n",
    "indmaxright = np.argmax(hist[indzero:]) + indzero -1\n",
    "sloperight = bin_edges[indmaxright]\n",
    "\n",
    "#find top point of "
   ]
  },
  {
   "cell_type": "code",
   "execution_count": 6,
   "metadata": {
    "collapsed": false,
    "deletable": true,
    "editable": true
   },
   "outputs": [
    {
     "data": {
      "text/plain": [
       "0.0"
      ]
     },
     "execution_count": 6,
     "metadata": {},
     "output_type": "execute_result"
    }
   ],
   "source": [
    "slopeleft"
   ]
  },
  {
   "cell_type": "code",
   "execution_count": null,
   "metadata": {
    "collapsed": true
   },
   "outputs": [],
   "source": []
  }
 ],
 "metadata": {
  "kernelspec": {
   "display_name": "Python 3",
   "language": "python",
   "name": "python3"
  },
  "language_info": {
   "codemirror_mode": {
    "name": "ipython",
    "version": 3
   },
   "file_extension": ".py",
   "mimetype": "text/x-python",
   "name": "python",
   "nbconvert_exporter": "python",
   "pygments_lexer": "ipython3",
   "version": "3.5.2"
  },
  "widgets": {
   "state": {},
   "version": "1.1.2"
  }
 },
 "nbformat": 4,
 "nbformat_minor": 2
}
