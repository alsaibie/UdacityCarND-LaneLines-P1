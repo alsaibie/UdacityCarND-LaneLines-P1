{
 "cells": [
  {
   "cell_type": "code",
   "execution_count": 21,
   "metadata": {
    "collapsed": false,
    "deletable": true,
    "editable": true
   },
   "outputs": [
    {
     "data": {
      "text/html": [
       "<style>.container { width:100% !important; }</style>"
      ],
      "text/plain": [
       "<IPython.core.display.HTML object>"
      ]
     },
     "metadata": {},
     "output_type": "display_data"
    },
    {
     "name": "stdout",
     "output_type": "stream",
     "text": [
      "65.3846153846\n",
      "-71.3203463203\n"
     ]
    }
   ],
   "source": [
    "from IPython.core.display import display, HTML\n",
    "display(HTML(\"<style>.container { width:100% !important; }</style>\"))\n",
    "import matplotlib.pyplot as plt\n",
    "import matplotlib.image as mpimg\n",
    "import numpy as np\n",
    "import cv2\n",
    "lines = np.array([\n",
    "\n",
    "       [[157, 538, 323, 421]],\n",
    "\n",
    "       [[671, 424, 783, 493]],\n",
    "\n",
    "       [[362, 387, 467, 311]],\n",
    "\n",
    "       [[337, 411, 455, 322]],\n",
    "\n",
    "       [[508, 322, 604, 387]],\n",
    "\n",
    "       [[425, 340, 467, 310]],\n",
    "\n",
    "       [[257, 459, 302, 427]],\n",
    "\n",
    "       [[661, 425, 687, 442]],\n",
    "\n",
    "       [[339, 403, 381, 372]],\n",
    "\n",
    "       [[694, 437, 784, 493]],\n",
    "\n",
    "       [[662, 424, 722, 464]],\n",
    "\n",
    "       [[699, 448, 767, 493]],\n",
    "\n",
    "       [[175, 527, 213, 499]],\n",
    "\n",
    "       [[399, 359, 465, 312]],\n",
    "\n",
    "       [[246, 465, 317, 418]],\n",
    "\n",
    "       [[188, 504, 279, 444]],\n",
    "\n",
    "       [[158, 539, 183, 520]],\n",
    "\n",
    "       [[501, 316, 609, 386]],\n",
    "\n",
    "       [[287, 437, 381, 373]],\n",
    "\n",
    "       [[210, 490, 238, 472]],\n",
    "\n",
    "       [[196, 512, 441, 334]]], dtype=np.int32)\n",
    "empty_arr = np.zeros((len(lines),1,1), dtype=np.int32)\n",
    "lines = np.dstack((empty_arr,lines))\n",
    "slopes_right = np.array([1])\n",
    "slopes_left = np.array([1])\n",
    "\n",
    "for line in lines:\n",
    "    for m100,x1,y1,x2,y2 in line:\n",
    "        #Match Slopes\n",
    "        m100 = 100* float ((y2-y1)/(x2-x1))\n",
    "        if m100 > 0: \n",
    "            slopes_left = np.append(slopes_left, m100)\n",
    "        else:\n",
    "            slopes_right = np.append(slopes_right,m100)\n",
    "        line[0,0]=m100\n",
    "#Get Median Slop of Left & Right Lines\n",
    "slopeleft = np.median(slopes_left[1:])\n",
    "sloperight = np.median(slopes_right[1:])\n",
    "print(slopeleft)\n",
    "print(sloperight)\n",
    "#find top point of "
   ]
  },
  {
   "cell_type": "code",
   "execution_count": 10,
   "metadata": {
    "collapsed": false,
    "deletable": true,
    "editable": true
   },
   "outputs": [
    {
     "data": {
      "text/plain": [
       "array([  1.        ,  61.60714286,  67.70833333,  65.38461538,\n",
       "        62.22222222,  66.66666667,  66.17647059,  64.81481481])"
      ]
     },
     "execution_count": 10,
     "metadata": {},
     "output_type": "execute_result"
    }
   ],
   "source": [
    "slopes_left"
   ]
  },
  {
   "cell_type": "code",
   "execution_count": null,
   "metadata": {
    "collapsed": true,
    "deletable": true,
    "editable": true
   },
   "outputs": [],
   "source": []
  }
 ],
 "metadata": {
  "kernelspec": {
   "display_name": "Python 3",
   "language": "python",
   "name": "python3"
  },
  "language_info": {
   "codemirror_mode": {
    "name": "ipython",
    "version": 3
   },
   "file_extension": ".py",
   "mimetype": "text/x-python",
   "name": "python",
   "nbconvert_exporter": "python",
   "pygments_lexer": "ipython3",
   "version": "3.5.2"
  },
  "widgets": {
   "state": {},
   "version": "1.1.2"
  }
 },
 "nbformat": 4,
 "nbformat_minor": 2
}
